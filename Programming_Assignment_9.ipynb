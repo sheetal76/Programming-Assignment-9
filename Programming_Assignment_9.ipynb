{
  "nbformat": 4,
  "nbformat_minor": 0,
  "metadata": {
    "colab": {
      "provenance": []
    },
    "kernelspec": {
      "name": "python3",
      "display_name": "Python 3"
    },
    "language_info": {
      "name": "python"
    }
  },
  "cells": [
    {
      "cell_type": "code",
      "execution_count": 1,
      "metadata": {
        "id": "G3VmvQFIfhkN"
      },
      "outputs": [],
      "source": [
        "#1. Write a Python program to check if the given number is a Disarium Number?"
      ]
    },
    {
      "cell_type": "code",
      "source": [
        "def is_disarium_number(num):\n",
        "    num_str = str(num)\n",
        "    length = len(num_str)\n",
        "    sum_of_digits = sum(int(digit) ** (i + 1) for i, digit in enumerate(num_str))\n",
        "\n",
        "    return sum_of_digits == num\n",
        "\n",
        "# Example usage\n",
        "given_number = int(input(\"Enter a number: \"))\n",
        "\n",
        "if is_disarium_number(given_number):\n",
        "    print(given_number, \"is a Disarium Number.\")\n",
        "else:\n",
        "    print(given_number, \"is not a Disarium Number.\")\n"
      ],
      "metadata": {
        "colab": {
          "base_uri": "https://localhost:8080/"
        },
        "id": "pkZUs6xxiJke",
        "outputId": "e1aa75db-ca65-4f17-fc5a-a3e3624e831b"
      },
      "execution_count": 10,
      "outputs": [
        {
          "output_type": "stream",
          "name": "stdout",
          "text": [
            "Enter a number: 25\n",
            "25 is not a Disarium Number.\n"
          ]
        }
      ]
    },
    {
      "cell_type": "code",
      "source": [
        "#2. Write a Python program to print all disarium numbers between 1 to 100?"
      ],
      "metadata": {
        "id": "s_8F5c_jfqvL"
      },
      "execution_count": 2,
      "outputs": []
    },
    {
      "cell_type": "code",
      "source": [
        "def is_disarium_number(num):\n",
        "    num_str = str(num)\n",
        "    length = len(num_str)\n",
        "    sum_of_digits = sum(int(digit) ** (i + 1) for i, digit in enumerate(num_str))\n",
        "\n",
        "    return sum_of_digits == num\n",
        "\n",
        "def print_disarium_numbers(limit):\n",
        "    disarium_numbers = [num for num in range(1, limit + 1) if is_disarium_number(num)]\n",
        "    return disarium_numbers\n",
        "\n",
        "# Set the upper limit to 100\n",
        "upper_limit = 100\n",
        "\n",
        "# Get and print Disarium Numbers within the limit\n",
        "disarium_numbers = print_disarium_numbers(upper_limit)\n",
        "print(\"Disarium Numbers between 1 and\", upper_limit, \"are:\", disarium_numbers)\n"
      ],
      "metadata": {
        "colab": {
          "base_uri": "https://localhost:8080/"
        },
        "id": "Kz7RTyLLiaum",
        "outputId": "cfeffbbf-d87b-4761-f6b1-ebe0bf27b910"
      },
      "execution_count": 11,
      "outputs": [
        {
          "output_type": "stream",
          "name": "stdout",
          "text": [
            "Disarium Numbers between 1 and 100 are: [1, 2, 3, 4, 5, 6, 7, 8, 9, 89]\n"
          ]
        }
      ]
    },
    {
      "cell_type": "code",
      "source": [
        "#3. Write a Python program to check if the given number is Happy Number?"
      ],
      "metadata": {
        "id": "btg_MWGUfuSa"
      },
      "execution_count": 3,
      "outputs": []
    },
    {
      "cell_type": "code",
      "source": [
        "def is_happy_number(num):\n",
        "    seen = set()\n",
        "    while num != 1 and num not in seen:\n",
        "        seen.add(num)\n",
        "        num = sum(int(digit) ** 2 for digit in str(num))\n",
        "    return num == 1\n",
        "\n",
        "# Example usage\n",
        "given_number = int(input(\"Enter a number: \"))\n",
        "\n",
        "if is_happy_number(given_number):\n",
        "    print(given_number, \"is a Happy Number.\")\n",
        "else:\n",
        "    print(given_number, \"is not a Happy Number.\")\n"
      ],
      "metadata": {
        "colab": {
          "base_uri": "https://localhost:8080/"
        },
        "id": "JSXPFO6th4ZD",
        "outputId": "4dff6833-db55-45b1-95c0-43078e3745af"
      },
      "execution_count": 9,
      "outputs": [
        {
          "output_type": "stream",
          "name": "stdout",
          "text": [
            "Enter a number: 20\n",
            "20 is not a Happy Number.\n"
          ]
        }
      ]
    },
    {
      "cell_type": "code",
      "source": [
        "#4. Write a Python program to print all happy numbers between 1 and 100?"
      ],
      "metadata": {
        "id": "He_1djDLfxzh"
      },
      "execution_count": 4,
      "outputs": []
    },
    {
      "cell_type": "code",
      "source": [
        "def is_happy_number(num):\n",
        "    seen = set()\n",
        "    while num != 1 and num not in seen:\n",
        "        seen.add(num)\n",
        "        num = sum(int(digit) ** 2 for digit in str(num))\n",
        "    return num == 1\n",
        "\n",
        "def print_happy_numbers(limit):\n",
        "    happy_numbers = [num for num in range(1, limit + 1) if is_happy_number(num)]\n",
        "    return happy_numbers\n",
        "\n",
        "# Set the upper limit to 100\n",
        "upper_limit = 100\n",
        "\n",
        "# Get and print happy numbers within the limit\n",
        "happy_numbers = print_happy_numbers(upper_limit)\n",
        "print(\"Happy numbers between 1 and\", upper_limit, \"are:\", happy_numbers)\n"
      ],
      "metadata": {
        "colab": {
          "base_uri": "https://localhost:8080/"
        },
        "id": "NfBTYsBGhn0n",
        "outputId": "4b9736ab-104d-4d9c-b4ae-6c1b1301d0cd"
      },
      "execution_count": 8,
      "outputs": [
        {
          "output_type": "stream",
          "name": "stdout",
          "text": [
            "Happy numbers between 1 and 100 are: [1, 7, 10, 13, 19, 23, 28, 31, 32, 44, 49, 68, 70, 79, 82, 86, 91, 94, 97, 100]\n"
          ]
        }
      ]
    },
    {
      "cell_type": "code",
      "source": [
        "#5. Write a Python program to determine whether the given number is a Harshad Number?"
      ],
      "metadata": {
        "id": "Dha3y_6hf1n1"
      },
      "execution_count": 5,
      "outputs": []
    },
    {
      "cell_type": "code",
      "source": [
        "def is_harshad_number(number):\n",
        "    # Convert the number to a string to get its digits\n",
        "    digits = [int(digit) for digit in str(number)]\n",
        "\n",
        "    # Calculate the sum of digits\n",
        "    digit_sum = sum(digits)\n",
        "\n",
        "    # Check if the number is divisible by the sum of its digits\n",
        "    return number % digit_sum == 0\n",
        "\n",
        "# Example usage\n",
        "given_number = int(input(\"Enter a number: \"))\n",
        "\n",
        "if is_harshad_number(given_number):\n",
        "    print(given_number, \"is a Harshad Number.\")\n",
        "else:\n",
        "    print(given_number, \"is not a Harshad Number.\")\n"
      ],
      "metadata": {
        "colab": {
          "base_uri": "https://localhost:8080/"
        },
        "id": "hrKKRODfhPn7",
        "outputId": "d3bc704b-60a3-4755-95c0-8645edd42fb8"
      },
      "execution_count": 7,
      "outputs": [
        {
          "output_type": "stream",
          "name": "stdout",
          "text": [
            "Enter a number: 54\n",
            "54 is a Harshad Number.\n"
          ]
        }
      ]
    },
    {
      "cell_type": "code",
      "source": [
        "#6. Write a Python program to print all pronic numbers between 1 and 100?"
      ],
      "metadata": {
        "id": "QTtulbiBf7x7"
      },
      "execution_count": null,
      "outputs": []
    },
    {
      "cell_type": "code",
      "source": [
        "i = 0\n",
        "while True:\n",
        "    pronicNum = i*(i+1)\n",
        "    i = i + 1\n",
        "    if pronicNum > 100:\n",
        "        break\n",
        "    print(pronicNum, end = ' ')\n",
        ""
      ],
      "metadata": {
        "colab": {
          "base_uri": "https://localhost:8080/"
        },
        "id": "vkF-tGTtgkC8",
        "outputId": "eef6bb53-b69e-4ae5-f20d-a1e81396da1a"
      },
      "execution_count": 6,
      "outputs": [
        {
          "output_type": "stream",
          "name": "stdout",
          "text": [
            "0 2 6 12 20 30 42 56 72 90 "
          ]
        }
      ]
    },
    {
      "cell_type": "code",
      "source": [],
      "metadata": {
        "id": "M6cp-16XgknH"
      },
      "execution_count": null,
      "outputs": []
    }
  ]
}